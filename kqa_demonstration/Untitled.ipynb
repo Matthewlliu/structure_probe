{
 "cells": [
  {
   "cell_type": "code",
   "execution_count": 1,
   "id": "e5b6b47b-6bd7-46d6-b6b1-f93eca7bf0e7",
   "metadata": {},
   "outputs": [],
   "source": [
    "ent = [[{'pos': [0, 2], 'type': 'ORG', 'sent_id': 4, 'name': 'Skai TV'}, {'pos': [0, 2], 'type': 'ORG', 'sent_id': 0, 'name': 'Skai TV'}, {'pos': [3, 5], 'type': 'ORG', 'sent_id': 5, 'name': 'Skai TV'}], [{'name': 'Greek', 'pos': [4, 5], 'sent_id': 0, 'type': 'LOC'}], [{'name': 'Piraeus', 'pos': [14, 15], 'sent_id': 0, 'type': 'LOC'}], [{'name': 'Skai Group', 'pos': [5, 7], 'sent_id': 1, 'type': 'ORG'}], [{'pos': [8, 12], 'type': 'TIME', 'sent_id': 2, 'name': '1st of April 2006'}], [{'name': 'Athens', 'pos': [14, 15], 'sent_id': 2, 'type': 'LOC'}], [{'name': 'Nova', 'pos': [16, 17], 'sent_id': 3, 'type': 'ORG'}], [{'pos': [18, 20], 'type': 'ORG', 'sent_id': 3, 'name': 'Cosmote TV'}], [{'pos': [7, 8], 'type': 'ORG', 'sent_id': 4, 'name': 'Digea'}], [{'name': 'Greece', 'pos': [20, 21], 'sent_id': 4, 'type': 'LOC'}, {'name': 'Greece', 'pos': [5, 6], 'sent_id': 6, 'type': 'LOC'}], [{'sent_id': 5, 'type': 'MISC', 'pos': [13, 14], 'name': 'Greek'}]]"
   ]
  },
  {
   "cell_type": "code",
   "execution_count": 2,
   "id": "bca5eb4b-c5cd-4037-a215-aebcd9d4b8f2",
   "metadata": {},
   "outputs": [
    {
     "data": {
      "text/plain": [
       "[[{'pos': [0, 2], 'type': 'ORG', 'sent_id': 4, 'name': 'Skai TV'},\n",
       "  {'pos': [0, 2], 'type': 'ORG', 'sent_id': 0, 'name': 'Skai TV'},\n",
       "  {'pos': [3, 5], 'type': 'ORG', 'sent_id': 5, 'name': 'Skai TV'}],\n",
       " [{'name': 'Greek', 'pos': [4, 5], 'sent_id': 0, 'type': 'LOC'}],\n",
       " [{'name': 'Piraeus', 'pos': [14, 15], 'sent_id': 0, 'type': 'LOC'}],\n",
       " [{'name': 'Skai Group', 'pos': [5, 7], 'sent_id': 1, 'type': 'ORG'}],\n",
       " [{'pos': [8, 12], 'type': 'TIME', 'sent_id': 2, 'name': '1st of April 2006'}],\n",
       " [{'name': 'Athens', 'pos': [14, 15], 'sent_id': 2, 'type': 'LOC'}],\n",
       " [{'name': 'Nova', 'pos': [16, 17], 'sent_id': 3, 'type': 'ORG'}],\n",
       " [{'pos': [18, 20], 'type': 'ORG', 'sent_id': 3, 'name': 'Cosmote TV'}],\n",
       " [{'pos': [7, 8], 'type': 'ORG', 'sent_id': 4, 'name': 'Digea'}],\n",
       " [{'name': 'Greece', 'pos': [20, 21], 'sent_id': 4, 'type': 'LOC'},\n",
       "  {'name': 'Greece', 'pos': [5, 6], 'sent_id': 6, 'type': 'LOC'}],\n",
       " [{'sent_id': 5, 'type': 'MISC', 'pos': [13, 14], 'name': 'Greek'}]]"
      ]
     },
     "execution_count": 2,
     "metadata": {},
     "output_type": "execute_result"
    }
   ],
   "source": [
    "ent"
   ]
  },
  {
   "cell_type": "code",
   "execution_count": 4,
   "id": "90fd41bb-513f-4337-9665-fef15151df09",
   "metadata": {},
   "outputs": [],
   "source": [
    "ent_dic = {}\n",
    "for e in ent:\n",
    "    for ee in e:\n",
    "        if ee['type'] in ent_dic:\n",
    "            ent_dic[ee['type']].append(ee['name'])\n",
    "        else:\n",
    "            ent_dic[ee['type']] = [ee['name']]"
   ]
  },
  {
   "cell_type": "code",
   "execution_count": 5,
   "id": "bf3f3038-ff6b-47b5-91a0-24482fc23e22",
   "metadata": {},
   "outputs": [
    {
     "data": {
      "text/plain": [
       "{'ORG': ['Skai TV',\n",
       "  'Skai TV',\n",
       "  'Skai TV',\n",
       "  'Skai Group',\n",
       "  'Nova',\n",
       "  'Cosmote TV',\n",
       "  'Digea'],\n",
       " 'LOC': ['Greek', 'Piraeus', 'Athens', 'Greece', 'Greece'],\n",
       " 'TIME': ['1st of April 2006'],\n",
       " 'MISC': ['Greek']}"
      ]
     },
     "execution_count": 5,
     "metadata": {},
     "output_type": "execute_result"
    }
   ],
   "source": [
    "ent_dic"
   ]
  },
  {
   "cell_type": "code",
   "execution_count": 6,
   "id": "ac9a2142-9718-476c-b5cf-74e671e28938",
   "metadata": {},
   "outputs": [],
   "source": [
    "labels = [{\"r\": \"P17\", \"h\": 2, \"t\": 9, \"evidence\": [0, 4]}, {\"r\": \"P17\", \"h\": 3, \"t\": 9, \"evidence\": [0, 1, 4]}, {\"r\": \"P17\", \"h\": 5, \"t\": 9, \"evidence\": [0, 2, 4]}, {\"r\": \"P159\", \"h\": 0, \"t\": 2, \"evidence\": [0]}, {\"r\": \"P127\", \"h\": 0, \"t\": 3, \"evidence\": [0, 1]}, {\"r\": \"P159\", \"h\": 0, \"t\": 5, \"evidence\": [0, 2]}, {\"r\": \"P17\", \"h\": 0, \"t\": 9, \"evidence\": [0, 4, 5, 6]}]"
   ]
  },
  {
   "cell_type": "code",
   "execution_count": 7,
   "id": "e4804b7e-b3a9-4f91-9451-ba5dc56be91b",
   "metadata": {},
   "outputs": [],
   "source": [
    "rel_info ={\"P6\": \"head of government\", \"P17\": \"country\", \"P19\": \"place of birth\", \"P20\": \"place of death\", \"P22\": \"father\", \"P25\": \"mother\", \"P26\": \"spouse\", \"P27\": \"country of citizenship\", \"P30\": \"continent\", \"P31\": \"instance of\", \"P35\": \"head of state\", \"P36\": \"capital\", \"P37\": \"official language\", \"P39\": \"position held\", \"P40\": \"child\", \"P50\": \"author\", \"P54\": \"member of sports team\", \"P57\": \"director\", \"P58\": \"screenwriter\", \"P69\": \"educated at\", \"P86\": \"composer\", \"P102\": \"member of political party\", \"P108\": \"employer\", \"P112\": \"founded by\", \"P118\": \"league\", \"P123\": \"publisher\", \"P127\": \"owned by\", \"P131\": \"located in the administrative territorial entity\", \"P136\": \"genre\", \"P137\": \"operator\", \"P140\": \"religion\", \"P150\": \"contains administrative territorial entity\", \"P155\": \"follows\", \"P156\": \"followed by\", \"P159\": \"headquarters location\", \"P161\": \"cast member\", \"P162\": \"producer\", \"P166\": \"award received\", \"P170\": \"creator\", \"P171\": \"parent taxon\", \"P172\": \"ethnic group\", \"P175\": \"performer\", \"P176\": \"manufacturer\", \"P178\": \"developer\", \"P179\": \"series\", \"P190\": \"sister city\", \"P194\": \"legislative body\", \"P205\": \"basin country\", \"P206\": \"located in or next to body of water\", \"P241\": \"military branch\", \"P264\": \"record label\", \"P272\": \"production company\", \"P276\": \"location\", \"P279\": \"subclass of\", \"P355\": \"subsidiary\", \"P361\": \"part of\", \"P364\": \"original language of work\", \"P400\": \"platform\", \"P403\": \"mouth of the watercourse\", \"P449\": \"original network\", \"P463\": \"member of\", \"P488\": \"chairperson\", \"P495\": \"country of origin\", \"P527\": \"has part\", \"P551\": \"residence\", \"P569\": \"date of birth\", \"P570\": \"date of death\", \"P571\": \"inception\", \"P576\": \"dissolved, abolished or demolished\", \"P577\": \"publication date\", \"P580\": \"start time\", \"P582\": \"end time\", \"P585\": \"point in time\", \"P607\": \"conflict\", \"P674\": \"characters\", \"P676\": \"lyrics by\", \"P706\": \"located on terrain feature\", \"P710\": \"participant\", \"P737\": \"influenced by\", \"P740\": \"location of formation\", \"P749\": \"parent organization\", \"P800\": \"notable work\", \"P807\": \"separated from\", \"P840\": \"narrative location\", \"P937\": \"work location\", \"P1001\": \"applies to jurisdiction\", \"P1056\": \"product or material produced\", \"P1198\": \"unemployment rate\", \"P1336\": \"territory claimed by\", \"P1344\": \"participant of\", \"P1365\": \"replaces\", \"P1366\": \"replaced by\", \"P1376\": \"capital of\", \"P1412\": \"languages spoken, written or signed\", \"P1441\": \"present in work\", \"P3373\": \"sibling\"}"
   ]
  },
  {
   "cell_type": "code",
   "execution_count": 10,
   "id": "ca2b895b-c707-49c4-92be-86e4188253ec",
   "metadata": {},
   "outputs": [
    {
     "name": "stdout",
     "output_type": "stream",
     "text": [
      "Piraeus , country , Greece\n",
      "Skai Group , country , Greece\n",
      "Athens , country , Greece\n",
      "Skai TV , headquarters location , Piraeus\n",
      "Skai TV , owned by , Skai Group\n",
      "Skai TV , headquarters location , Athens\n",
      "Skai TV , country , Greece\n"
     ]
    }
   ],
   "source": [
    "\n",
    "for ind, l in enumerate(labels):\n",
    "    h = ent[l['h']][0]['name']\n",
    "    t = ent[l['t']][0]['name']\n",
    "    r = rel_info[l['r']]\n",
    "    print(h, \",\", r, \",\", t)"
   ]
  },
  {
   "cell_type": "code",
   "execution_count": null,
   "id": "2691ecf3-f039-4efb-9cbc-006704bb9a25",
   "metadata": {},
   "outputs": [],
   "source": []
  }
 ],
 "metadata": {
  "kernelspec": {
   "display_name": "Python 3 (ipykernel)",
   "language": "python",
   "name": "python3"
  },
  "language_info": {
   "codemirror_mode": {
    "name": "ipython",
    "version": 3
   },
   "file_extension": ".py",
   "mimetype": "text/x-python",
   "name": "python",
   "nbconvert_exporter": "python",
   "pygments_lexer": "ipython3",
   "version": "3.8.11"
  }
 },
 "nbformat": 4,
 "nbformat_minor": 5
}
