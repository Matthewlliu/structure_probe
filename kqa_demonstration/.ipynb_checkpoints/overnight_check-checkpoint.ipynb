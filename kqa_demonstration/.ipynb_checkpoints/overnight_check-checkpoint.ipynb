{
 "cells": [
  {
   "cell_type": "code",
   "execution_count": 1,
   "id": "0108bcfb-8d31-45e2-a94d-a3bd4103fde1",
   "metadata": {},
   "outputs": [],
   "source": [
    "import os\n",
    "from test_overnight import sending_post, pprint_res\n",
    "import numpy as np"
   ]
  },
  {
   "cell_type": "code",
   "execution_count": 2,
   "id": "4ced70b8-4c55-487f-99f3-b6ec9f66edb5",
   "metadata": {},
   "outputs": [],
   "source": [
    "data_path = '/data/ljx/data/overnight-lf'"
   ]
  },
  {
   "cell_type": "code",
   "execution_count": 3,
   "id": "73e109ac-da39-4bab-a313-d9ee3916a16d",
   "metadata": {},
   "outputs": [
    {
     "name": "stdout",
     "output_type": "stream",
     "text": [
      "<class 'list'>\n"
     ]
    }
   ],
   "source": [
    "file_name = 'all_train.tsv'\n",
    "data = []\n",
    "with open(os.path.join(data_path, file_name), 'r') as f:\n",
    "    data = f.readlines()\n",
    "print(type(data))"
   ]
  },
  {
   "cell_type": "code",
   "execution_count": 4,
   "id": "f2fb507b-162b-467a-8c7a-57b72104af4e",
   "metadata": {},
   "outputs": [],
   "source": [
    "def extract_bones(lf):\n",
    "    bone_names = ['call', 'string', 'lambda', 'var', 'date', 'number', 'time', '+']\n",
    "    lf = lf.split()\n",
    "    out = []\n",
    "    \n",
    "    for term in lf:\n",
    "        if term in '(':\n",
    "            out.append(term)\n",
    "        elif term in ')':\n",
    "            if out[-1] in '(':\n",
    "                out = out[:-1]\n",
    "            else:\n",
    "                out.append(term)\n",
    "        elif term in bone_names or term.startswith('SW.') or term.startswith('.'):\n",
    "            out.append(term)\n",
    "    return ' '.join(out)\n",
    "    "
   ]
  },
  {
   "cell_type": "code",
   "execution_count": 5,
   "id": "dbddc68a-4367-4cb4-a4ec-57da57904978",
   "metadata": {},
   "outputs": [],
   "source": [
    "# edit distance\n",
    "def levenshtein(l1, l2, thresh=np.inf):\n",
    "    \"\"\"\n",
    "        l1, l2: list of kopl functions\n",
    "        thresh: maximum edit distance allowed minus 1\n",
    "    \"\"\"\n",
    "    len1 = len(l1)\n",
    "    len2 = len(l2)\n",
    "    dp = np.zeros([len1+1, len2+1])\n",
    "    for i in range(1, len1+1):\n",
    "        dp[i][0] = i\n",
    "    for j in range(1, len2+1):\n",
    "        dp[0][j] = j\n",
    "    for i in range(1, len1+1):\n",
    "        for j in range(1, len2+1):\n",
    "            if l1[i-1] == l2[j-1]:\n",
    "                dp[i][j] = dp[i-1][j-1]\n",
    "            else:\n",
    "                dp[i][j] = np.min([dp[i-1][j-1], dp[i-1][j], dp[i][j-1]]) + 1\n",
    "            #if dp[i][j] > thresh:\n",
    "            #    return dp[i][j]\n",
    "    return int(dp[len1][len2])"
   ]
  },
  {
   "cell_type": "code",
   "execution_count": 6,
   "id": "ccea899d-8da8-4aae-999e-85175f4fecad",
   "metadata": {},
   "outputs": [],
   "source": [
    "def lf_pretifier(lf):\n",
    "    lf = lf.split()\n",
    "    count = -1\n",
    "    out = []\n",
    "    con = True\n",
    "    for item in lf:\n",
    "        if item == '(':\n",
    "            count += 1\n",
    "            out.append('\\t'*count + '{')\n",
    "            con = False\n",
    "        elif item == ')':\n",
    "            out.append('\\t'*count + '}')\n",
    "            count -= 1\n",
    "            con = False\n",
    "        else:\n",
    "            if con:\n",
    "                out[-1] += ' ' + item\n",
    "            else:\n",
    "                out.append('\\t'*count + item)\n",
    "            con = True\n",
    "    return out\n",
    "\n",
    "def pprint(List):\n",
    "    for l in List:\n",
    "        print(l)"
   ]
  },
  {
   "cell_type": "code",
   "execution_count": 7,
   "id": "5afa1e24-7e63-44f8-8157-ad407e4a1e0d",
   "metadata": {},
   "outputs": [
    {
     "name": "stdout",
     "output_type": "stream",
     "text": [
      "20874\n",
      "344\n",
      "52\n"
     ]
    }
   ],
   "source": [
    "# function trees in all_train\n",
    "func_dict = {}\n",
    "print(len(data))\n",
    "for ind, entry in enumerate(data):\n",
    "    text, lf = entry.strip().split('\\t')\n",
    "    bones = extract_bones(lf)\n",
    "    if bones in func_dict:\n",
    "        func_dict[bones].append(ind)\n",
    "    else:\n",
    "        func_dict[bones] = [ind]\n",
    "print(len(func_dict))\n",
    "\n",
    "count = 0\n",
    "for k,v in func_dict.items():\n",
    "    if len(v) == 1:\n",
    "        count += 1\n",
    "print(count)"
   ]
  },
  {
   "cell_type": "code",
   "execution_count": 8,
   "id": "da7a64a8-a98f-4211-a99d-931e81e87aa7",
   "metadata": {},
   "outputs": [
    {
     "name": "stdout",
     "output_type": "stream",
     "text": [
      "Unseen lf: 11/4475\n"
     ]
    }
   ],
   "source": [
    "# check test file:\n",
    "import re\n",
    "line = r'([a-zA-z]*)\\_(test\\.tsv)'\n",
    "test_files = []\n",
    "files = os.listdir(data_path)\n",
    "\n",
    "for file in files:\n",
    "    if re.match(line, file) is not None:\n",
    "        test_files.append(file)\n",
    "\n",
    "test_data = []\n",
    "for file in test_files:\n",
    "    with open(os.path.join(data_path, file), 'r') as f:\n",
    "        test_data.extend(f.readlines())\n",
    "#print(len(test_data))\n",
    "\n",
    "count = 0\n",
    "diff = []\n",
    "for entry in test_data:\n",
    "    text, lf = entry.strip().split('\\t')\n",
    "    bones = extract_bones(lf)\n",
    "    if bones not in func_dict:\n",
    "        count += 1\n",
    "        diff.append(entry)\n",
    "print(\"Unseen lf: {}/{}\".format(count, len(test_data)))"
   ]
  },
  {
   "cell_type": "code",
   "execution_count": null,
   "id": "14a6a8ba-2a2a-48a3-8230-fa0a67a6bcc5",
   "metadata": {},
   "outputs": [
    {
     "name": "stdout",
     "output_type": "stream",
     "text": [
      "Question:\n",
      "what players made less than three assists over a season\n",
      "\n",
      "\n",
      "( call SW.listValue ( call SW.getProperty ( ( lambda s ( call SW.filter ( var s ) ( call SW.ensureNumericProperty ( string num_assists ) ) ( string < ) ( call SW.ensureNumericEntity ( number 3 assist ) ) ) ) ( call SW.domain ( string player ) ) ) ( string player ) ) )\n",
      "{\n",
      "call SW.listValue\n",
      "\t{\n",
      "\tcall SW.getProperty\n",
      "\t\t{\n",
      "\t\t\t{\n",
      "\t\t\tlambda s\n",
      "\t\t\t\t{\n",
      "\t\t\t\tcall SW.filter\n",
      "\t\t\t\t\t{\n",
      "\t\t\t\t\tvar s\n",
      "\t\t\t\t\t}\n",
      "\t\t\t\t\t{\n",
      "\t\t\t\t\tcall SW.ensureNumericProperty\n",
      "\t\t\t\t\t\t{\n",
      "\t\t\t\t\t\tstring num_assists\n",
      "\t\t\t\t\t\t}\n",
      "\t\t\t\t\t}\n",
      "\t\t\t\t\t{\n",
      "\t\t\t\t\tstring <\n",
      "\t\t\t\t\t}\n",
      "\t\t\t\t\t{\n",
      "\t\t\t\t\tcall SW.ensureNumericEntity\n",
      "\t\t\t\t\t\t{\n",
      "\t\t\t\t\t\tnumber 3 assist\n",
      "\t\t\t\t\t\t}\n",
      "\t\t\t\t\t}\n",
      "\t\t\t\t}\n",
      "\t\t\t}\n",
      "\t\t\t{\n",
      "\t\t\tcall SW.domain\n",
      "\t\t\t\t{\n",
      "\t\t\t\tstring player\n",
      "\t\t\t\t}\n",
      "\t\t\t}\n",
      "\t\t}\n",
      "\t\t{\n",
      "\t\tstring player\n",
      "\t\t}\n",
      "\t}\n",
      "}\n",
      "( call SW.listValue ( call SW.getProperty ( ( lambda ( call SW.filter ( var ) ( call SW.ensureNumericProperty ( string ) ) ( string ) ( call SW.ensureNumericEntity ( number ) ) ) ) ( call SW.domain ( string ) ) ) ( string ) ) )\n"
     ]
    },
    {
     "name": "stdin",
     "output_type": "stream",
     "text": [
      " \n"
     ]
    },
    {
     "name": "stdout",
     "output_type": "stream",
     "text": [
      "Question:\n",
      "what player had at least as many blocks in the season as kobe bryant\n",
      "\n",
      "\n",
      "( call SW.listValue ( call SW.getProperty ( ( lambda s ( call SW.filter ( var s ) ( call SW.ensureNumericProperty ( string num_blocks ) ) ( string >= ) ( call SW.ensureNumericEntity ( call SW.getProperty ( call SW.getProperty en.player.kobe_bryant ( call SW.reverse ( string player ) ) ) ( string num_blocks ) ) ) ) ) ( call SW.domain ( string player ) ) ) ( string player ) ) )\n",
      "{\n",
      "call SW.listValue\n",
      "\t{\n",
      "\tcall SW.getProperty\n",
      "\t\t{\n",
      "\t\t\t{\n",
      "\t\t\tlambda s\n",
      "\t\t\t\t{\n",
      "\t\t\t\tcall SW.filter\n",
      "\t\t\t\t\t{\n",
      "\t\t\t\t\tvar s\n",
      "\t\t\t\t\t}\n",
      "\t\t\t\t\t{\n",
      "\t\t\t\t\tcall SW.ensureNumericProperty\n",
      "\t\t\t\t\t\t{\n",
      "\t\t\t\t\t\tstring num_blocks\n",
      "\t\t\t\t\t\t}\n",
      "\t\t\t\t\t}\n",
      "\t\t\t\t\t{\n",
      "\t\t\t\t\tstring >=\n",
      "\t\t\t\t\t}\n",
      "\t\t\t\t\t{\n",
      "\t\t\t\t\tcall SW.ensureNumericEntity\n",
      "\t\t\t\t\t\t{\n",
      "\t\t\t\t\t\tcall SW.getProperty\n",
      "\t\t\t\t\t\t\t{\n",
      "\t\t\t\t\t\t\tcall SW.getProperty en.player.kobe_bryant\n",
      "\t\t\t\t\t\t\t\t{\n",
      "\t\t\t\t\t\t\t\tcall SW.reverse\n",
      "\t\t\t\t\t\t\t\t\t{\n",
      "\t\t\t\t\t\t\t\t\tstring player\n",
      "\t\t\t\t\t\t\t\t\t}\n",
      "\t\t\t\t\t\t\t\t}\n",
      "\t\t\t\t\t\t\t}\n",
      "\t\t\t\t\t\t\t{\n",
      "\t\t\t\t\t\t\tstring num_blocks\n",
      "\t\t\t\t\t\t\t}\n",
      "\t\t\t\t\t\t}\n",
      "\t\t\t\t\t}\n",
      "\t\t\t\t}\n",
      "\t\t\t}\n",
      "\t\t\t{\n",
      "\t\t\tcall SW.domain\n",
      "\t\t\t\t{\n",
      "\t\t\t\tstring player\n",
      "\t\t\t\t}\n",
      "\t\t\t}\n",
      "\t\t}\n",
      "\t\t{\n",
      "\t\tstring player\n",
      "\t\t}\n",
      "\t}\n",
      "}\n",
      "( call SW.listValue ( call SW.getProperty ( ( lambda ( call SW.filter ( var ) ( call SW.ensureNumericProperty ( string ) ) ( string ) ( call SW.ensureNumericEntity ( call SW.getProperty ( call SW.getProperty ( call SW.reverse ( string ) ) ) ( string ) ) ) ) ) ( call SW.domain ( string ) ) ) ( string ) ) )\n"
     ]
    },
    {
     "name": "stdin",
     "output_type": "stream",
     "text": [
      " \n"
     ]
    },
    {
     "name": "stdout",
     "output_type": "stream",
     "text": [
      "Question:\n",
      "number of points over a season of player kobe bryant from season 2004\n",
      "\n",
      "\n",
      "( call SW.listValue ( call SW.getProperty ( call SW.filter ( call SW.getProperty en.player.kobe_bryant ( call SW.reverse ( string player ) ) ) ( string season ) ( string = ) ( date 2004 -1 -1 ) ) ( string num_points ) ) )\n",
      "{\n",
      "call SW.listValue\n",
      "\t{\n",
      "\tcall SW.getProperty\n",
      "\t\t{\n",
      "\t\tcall SW.filter\n",
      "\t\t\t{\n",
      "\t\t\tcall SW.getProperty en.player.kobe_bryant\n",
      "\t\t\t\t{\n",
      "\t\t\t\tcall SW.reverse\n",
      "\t\t\t\t\t{\n",
      "\t\t\t\t\tstring player\n",
      "\t\t\t\t\t}\n",
      "\t\t\t\t}\n",
      "\t\t\t}\n",
      "\t\t\t{\n",
      "\t\t\tstring season\n",
      "\t\t\t}\n",
      "\t\t\t{\n",
      "\t\t\tstring =\n",
      "\t\t\t}\n",
      "\t\t\t{\n",
      "\t\t\tdate 2004 -1 -1\n",
      "\t\t\t}\n",
      "\t\t}\n",
      "\t\t{\n",
      "\t\tstring num_points\n",
      "\t\t}\n",
      "\t}\n",
      "}\n",
      "( call SW.listValue ( call SW.getProperty ( call SW.filter ( call SW.getProperty ( call SW.reverse ( string ) ) ) ( string ) ( string ) ( date ) ) ( string ) ) )\n"
     ]
    }
   ],
   "source": [
    "for entry in data:\n",
    "    text, lf = entry.strip().split('\\t')\n",
    "    print(\"Question:\")\n",
    "    print(text)\n",
    "    print('\\n')\n",
    "    print(lf)\n",
    "    \n",
    "    #print('\\n')\n",
    "    bones = extract_bones(lf)\n",
    "    lf = lf_pretifier(lf)\n",
    "    pprint(lf)\n",
    "    print(bones)\n",
    "    input()\n",
    "    "
   ]
  },
  {
   "cell_type": "code",
   "execution_count": 21,
   "id": "e03c3663-7753-43d6-82a9-e4e3f09c5834",
   "metadata": {},
   "outputs": [
    {
     "data": {
      "text/plain": [
       "344"
      ]
     },
     "execution_count": 21,
     "metadata": {},
     "output_type": "execute_result"
    }
   ],
   "source": [
    "len(func_dict.keys())"
   ]
  },
  {
   "cell_type": "code",
   "execution_count": null,
   "id": "ac6a9920-d39e-4000-b46e-15904f958f68",
   "metadata": {},
   "outputs": [
    {
     "name": "stdout",
     "output_type": "stream",
     "text": [
      "( call + ( string \"\\\\\\\\b ( \" ) ( string \"[a-zA-Z]+& ( \" ) ( call + ( string \" ( ( \" ) ( call + ( string [A-Za-z] ) ( string SW.* ) ) ( string \" ) & ( \" ) ( call + ( string SW.* ) ( string [A-Za-z] ) ( string SW.* ) ) ( string \" ) ) \" ) ) ( string \" ) ) \\\\\\\\b\" ) ) is verbalized as: word that starts with a letter and contains a letter[SEP]( call + ( string \"\\\\\\\\b ( \" ) ( string \"[a-zA-Z]+& ( \" ) ( call + ( string \" ( ( \" ) ( call + ( string abc ) ( string SW.* ) ) ( string \" ) & ( \" ) ( call + ( string SW.* ) ( string SW. ) ( string SW.* ) ) ( string \" ) ) \" ) ) ( string \" ) ) \\\\\\\\b\" ) ) is verbalized as: word that begins with abc and that contains a character[SEP]( call + ( string \"\\\\\\\\b ( \" ) ( string \"[a-zA-Z]+& ( \" ) ( call + ( string \" ( ( \" ) ( call + ( string SW.* ) ( string SW. ) ) ( string \" ) & ( \" ) ( call + ( string SW.* ) ( string [A-Za-z] ) ( string SW.* ) ) ( string \" ) ) \" ) ) ( string \" ) ) \\\\\\\\b\" ) ) is verbalized as: \u001b[4mword that contains a character and that starts with a letter[SEP]( call + ( string \"\\\\\\\\b ( \" ) ( string \"[a-zA-Z]+& ( \") ( call +( string \" ( ( \" ( call+ ( string [A-Za-z] ) string SW.\u001b[0m\n",
      "\n",
      "time cost: 2.99910831451416\n",
      "\n",
      "\n",
      "original: a word that ends with a character and contains a letter\n"
     ]
    },
    {
     "name": "stdin",
     "output_type": "stream",
     "text": [
      " \n"
     ]
    },
    {
     "name": "stdout",
     "output_type": "stream",
     "text": [
      "( call + ( string \" ( ( \" ) ( call + ( string SW. ) ( string SW.* ) ) ( string \" ) & ( \" ) ( call + ( string SW.* ) ( string [A-Z] ) ( string SW.* ) ) ( string \" ) ) \" ) ) is verbalized as: line that begins with a character and has capital letter[SEP]( call + ( string \" ( ( \" ) ( call + ( string SW.* ) ( string [A-Z] ) ) ( string \" ) & ( \" ) ( call + ( string SW.* ) ( string [a-z] ) ( string SW.* ) ) ( string \" ) ) \" ) ) is verbalized as: a line that terminates with a capital letter and includes a lowercase letter[SEP]( call + ( string \" ( ( \" ) ( call + ( string [AEIOUaeiou] ) ( string SW.* ) ) ( string \" ) & ( \" ) ( call + ( string SW.* ) ( string [AEIOUaeiou] ) ( string SW.* ) ) ( string \" ) ) \" ) ) is verbalized as: \u001b[4ma line that terminates with a vowel and includes a vowel[SEP]( call + ( string \" ( ( \" ) ( call + [AEIOUaeiou] ( string SW.* ) ) [SEP] ( call ( string [AEIOaeiouy] ) + ( call [AE\u001b[0m\n",
      "\n",
      "time cost: 2.8090875148773193\n",
      "\n",
      "\n",
      "original: when does a vowel start a line that has another vowel in it\n"
     ]
    },
    {
     "name": "stdin",
     "output_type": "stream",
     "text": [
      " \n"
     ]
    },
    {
     "name": "stdout",
     "output_type": "stream",
     "text": [
      "( call + ( string \" ( ( \" ) ( call + ( string SW.* ) ( string [AEIOUaeiou] ) ( string SW.* ) ) ( string \" ) & ( \" ) ( call + ( string SW.* ) ( string SW. ) ( string SW.* ) ) ( string \" ) ) \" ) ) is verbalized as: line with a vowel and a character[SEP]( call + ( string \" ( ( \" ) ( call + ( string SW.* ) ( string [a-z] ) ( string SW.* ) ) ( string \" ) & ( \" ) ( call + ( string SW.* ) ( string 123 ) ( string SW.* ) ) ( string \" ) ) \" ) ) is verbalized as: lines that include a lowercase letter and include the number sequence 123[SEP]( call + ( string \" ( ( \" ) ( call + ( string SW.* ) ( string 123 ) ( string SW.* ) ) ( string \" ) & ( \" ) ( call + ( string SW.* ) ( string SW. ) ( string SW.* ) ) ( string \" ) ) \" ) ) is verbalized as: \u001b[4mlines that include the number sequence 123 and include a character[SEP]( call + ( string \" ( ( \" ) ( call + () ( string SW.* ) ) is verbalized as: lines that do not include any characters[SEP]\u001b[0m\n",
      "\n",
      "time cost: 2.817495107650757\n",
      "\n",
      "\n",
      "original: a line including 123 and a character\n"
     ]
    },
    {
     "name": "stdin",
     "output_type": "stream",
     "text": [
      " \n"
     ]
    },
    {
     "name": "stdout",
     "output_type": "stream",
     "text": [
      "( call + ( string \"\\\\\\\\b ( \" ) ( string \"[a-zA-Z]+& ( \" ) ( call + ( string \" ( ( \" ) ( call + ( string SW.* ) ( string [AEIOUaeiou] ) ( string SW.* ) ) ( string \" ) & ( \" ) ( call + ( string SW.* ) ( string [a-z] ) ( string SW.* ) ) ( string \" ) ) \" ) ) ( string \" ) ) \\\\\\\\b\" ) ) is verbalized as: word that has a vowel and a lowercase letter[SEP]( call + ( string \"\\\\\\\\b ( \" ) ( string \"[a-zA-Z]+& ( \" ) ( call + ( string \" ( ( \" ) ( call + ( string SW.* ) ( string [A-Za-z] ) ( string SW.* ) ) ( string \" ) & ( \" ) ( call + ( string SW.* ) ( string [A-Z] ) ( string SW.* ) ) ( string \" ) ) \" ) ) ( string \" ) ) \\\\\\\\b\" ) ) is verbalized as: word containing two letters one of them being a capital letter[SEP]( call + ( string \"\\\\\\\\b ( \" ) ( string \"[a-zA-Z]+& ( \" ) ( call + ( string \" ( ( \" ) ( call + ( string SW.* ) ( string SW. ) ( string SW.* ) ) ( string \" ) & ( \" ) ( call + ( string SW.* ) ( string [AEIOUaeiou] ) ( string SW.* ) ) ( string \" ) ) \" ) ) ( string \" ) ) \\\\\\\\b\" ) ) is verbalized as: \u001b[4mword that has a vowel and a lowercase letter[SEP]( call + ( string \"\\\\\\\\b ( \" ) ( string \"[a-zA-Z]+& ( \") ( call +( string \" ( ( \" ( call+ ( string SW.* ) string [A-Za-z] \u001b[0m\n",
      "\n",
      "time cost: 3.0545716285705566\n",
      "\n",
      "\n",
      "original: word with a vowel and characters\n"
     ]
    }
   ],
   "source": [
    "def fix_lf(lf):\n",
    "    lf = lf.split()\n",
    "    for i in range(len(lf)):\n",
    "        if lf[i].startswith('.'):\n",
    "            lf[i] = 'SW' + lf[i]\n",
    "    return ' '.join(lf)\n",
    "\n",
    "def ensemble_prompt(input_lf, example_ids, data, bones_only=False):\n",
    "    out = []\n",
    "    for e_id in example_ids:\n",
    "        example = data[e_id]\n",
    "        text, lf = example.split('\\t')\n",
    "        #lf = fix_lf(lf)\n",
    "        if bones_only:\n",
    "            lf = extract_bones(lf)\n",
    "        out.append(lf + ' is verbalized as: ' + text)\n",
    "    if bones_only:\n",
    "        input_lf = extract_bones(input_lf)\n",
    "    out.append(input_lf + ' is verbalized as: ')\n",
    "    return ['[SEP]'.join(out)]\n",
    "\n",
    "\n",
    "for entry in test_data:\n",
    "    text, lf = entry.split('\\t')\n",
    "    #lf = fix_lf(lf)\n",
    "    bones = extract_bones(lf)\n",
    "    #print('lf:', lf)\n",
    "    #print('bones:', bones)\n",
    "    \n",
    "    if bones not in func_dict:\n",
    "        closest_func = {}\n",
    "        min_dist = 1e5\n",
    "        for func in func_dict.keys():\n",
    "            dist = levenshtein(func.split(), bones.split()) #, min_dist)\n",
    "            #print('cand:', func)\n",
    "            #print(dist)\n",
    "            if dist < min_dist:\n",
    "                min_dist = dist\n",
    "                closest_func[dist] = [func]\n",
    "            elif dist == min_dist:\n",
    "                closest_func[dist].append(func)\n",
    "        #input()\n",
    "        \n",
    "        examples = []\n",
    "        example_func = np.random.choice(closest_func[min_dist], 1, replace=False)\n",
    "        if len(func_dict[example_func[0]]) > 2:\n",
    "            examples = np.random.choice(func_dict[example_func[0]], 2, replace=False)\n",
    "        else:\n",
    "            examples = func_dict[example_func[0]]\n",
    "            if len(closest_func[min_dist])>1:\n",
    "                another_func = np.random.choice([f for f in closest_func[min_dist] if f!=example_func[0]], 1, replace=False)\n",
    "            else:\n",
    "                dists = sorted(list(closest_func.keys()))\n",
    "                another_func = np.random.choice(closest_func[dists[1]], 1)\n",
    "            examples.extend(np.random.choice(func_dict[another_func[0]], 1))\n",
    "    else:\n",
    "        examples = []\n",
    "        if len(func_dict[bones]) < 2:\n",
    "            examples = func_dict[bones]\n",
    "        else:\n",
    "            examples = np.random.choice(func_dict[bones], 2, replace=False)\n",
    "    full_prompt = ensemble_prompt(lf, examples, data)\n",
    "    \n",
    "    res, time = sending_post(full_prompt, strategy = \"BeamSearchStrategy\")\n",
    "    pprint_res(res, full_prompt, time)\n",
    "    print()\n",
    "    print(\"original:\", text)\n",
    "    input()"
   ]
  },
  {
   "cell_type": "code",
   "execution_count": 5,
   "id": "4e8601c8-bec0-4331-8493-a49c13e48919",
   "metadata": {},
   "outputs": [],
   "source": [
    "texts = ['( call SW.listValue ( call SW.getProperty ( ( lambda s ( call SW.filter ( var s ) ( call SW.ensureNumericProperty \\\n",
    "( string num_assists ) ) ( string < ) ( call SW.ensureNumericEntity ( number 3 assist ) ) ) ) ( call SW.domain ( string player ) ) ) \\\n",
    "( string player ) ) ) is verbalized as: what players made less than three assists over a season? \\\n",
    "[SEP] ( call SW.listValue ( call SW.getProperty ( ( lambda s ( call SW.filter ( var s ) ( call SW.ensureNumericProperty \\\n",
    "( string num_blocks ) ) ( string <= ) ( call SW.ensureNumericEntity ( number 3 block ) ) ) ) ( call SW.domain ( string player ) ) ) \\\n",
    "( string player ) ) ) is verbalized as: ']"
   ]
  },
  {
   "cell_type": "code",
   "execution_count": 6,
   "id": "3fcc2843-db43-4822-9c38-3b1e8d65bc14",
   "metadata": {},
   "outputs": [],
   "source": [
    "texts = ['( call SW.listValue ( call SW.getProperty ( call SW.filter ( call SW.getProperty en.player.kobe_bryant ( call SW.reverse ( string player ) ) ) ( string num_assists ) ( string = ) ( number 3 assist ) ) ( string num_blocks ) ) ) is verbalized as: how many blocks did kobe bryant make during seasons where he made 3 assists [SEP] ( call SW.listValue ( call SW.getProperty ( call SW.filter ( call SW.getProperty en.player.kobe_bryant ( call SW.reverse ( string player ) ) ) ( string season ) ( string = ) ( date 2004 -1 -1 ) ) ( string num_points ) ) ) is verbalized as: ']"
   ]
  },
  {
   "cell_type": "code",
   "execution_count": 15,
   "id": "d7a116a7-816a-4616-bfe4-ff0c89787218",
   "metadata": {},
   "outputs": [],
   "source": [
    "texts = ['( call SW.listValue ( call SW.getProperty ( call SW.filter ( call SW.getProperty en.player.kobe_bryant ( call SW.reverse ( string player ) ) ) ( string season ) ( string = ) ( date 2004 -1 -1 ) ) ( string num_points ) ) ) is verbalized as: number of points over a season of player kobe bryant from season 2004 [SEP] ( call SW.listValue ( call SW.getProperty ( call SW.filter ( call SW.getProperty en.player.kobe_bryant ( call SW.reverse ( string player ) ) ) ( string num_assists ) ( string = ) ( number 3 assist ) ) ( string num_blocks ) ) ) is verbalized as: ']"
   ]
  },
  {
   "cell_type": "code",
   "execution_count": 16,
   "id": "c61ad190-a7b2-420a-83d4-8d39cdae37be",
   "metadata": {},
   "outputs": [
    {
     "name": "stdout",
     "output_type": "stream",
     "text": [
      "( call SW.listValue ( call SW.getProperty ( call SW.filter ( call SW.getProperty en.player.kobe_bryant ( call SW.reverse ( string player ) ) ) ( string season ) ( string = ) ( date 2004 -1 -1 ) ) ( string num_points ) ) ) is verbalized as: number of points over a season of player kobe bryant from season 2004 [SEP] ( call SW.listValue ( call SW.getProperty ( call SW.filter ( call SW.getProperty en.player.kobe_bryant ( call SW.reverse ( string player ) ) ) ( string num_assists ) ( string = ) ( number 3 assist ) ) ( string num_blocks ) ) ) is verbalized as: \u001b[4mnumber of blocks over a season of player kobe bryant from season 2004 [SEP] ( call SW.listValue ( call sw.getProperty ( string player ) ( string = ) en.player.kobe_bryant ) ) is verbalized as: player ko\u001b[0m\n",
      "\n",
      "time cost: 2.60975980758667\n",
      "\n"
     ]
    }
   ],
   "source": [
    "res, time = sending_post(texts, strategy = \"BeamSearchStrategy\")\n",
    "pprint_res(res, texts, time)"
   ]
  },
  {
   "cell_type": "code",
   "execution_count": 37,
   "id": "1f79db6b-529f-45b5-aec0-8c54bdcb1629",
   "metadata": {},
   "outputs": [
    {
     "name": "stdout",
     "output_type": "stream",
     "text": [
      "[2]\n"
     ]
    }
   ],
   "source": [
    "x = [3,2,5]\n",
    "y = np.random.choice(x, 1)\n",
    "print(y)"
   ]
  },
  {
   "cell_type": "code",
   "execution_count": null,
   "id": "b176e014-5208-4121-89a6-df36a2d96b04",
   "metadata": {},
   "outputs": [],
   "source": []
  }
 ],
 "metadata": {
  "kernelspec": {
   "display_name": "Python 3 (ipykernel)",
   "language": "python",
   "name": "python3"
  },
  "language_info": {
   "codemirror_mode": {
    "name": "ipython",
    "version": 3
   },
   "file_extension": ".py",
   "mimetype": "text/x-python",
   "name": "python",
   "nbconvert_exporter": "python",
   "pygments_lexer": "ipython3",
   "version": "3.8.11"
  }
 },
 "nbformat": 4,
 "nbformat_minor": 5
}
