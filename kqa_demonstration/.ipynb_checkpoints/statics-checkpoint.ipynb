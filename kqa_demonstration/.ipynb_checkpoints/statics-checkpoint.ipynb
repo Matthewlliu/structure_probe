{
 "cells": [
  {
   "cell_type": "code",
   "execution_count": 1,
   "id": "e960bf13-f903-4579-8219-1c449e4b7301",
   "metadata": {},
   "outputs": [],
   "source": [
    "import os\n",
    "import json\n",
    "import matplotlib.pyplot as plt\n",
    "import numpy as np"
   ]
  },
  {
   "cell_type": "code",
   "execution_count": 2,
   "id": "69922e24-21f4-435c-b2dc-157706bd8479",
   "metadata": {},
   "outputs": [],
   "source": [
    "cached_train_path = 'cache/split_by_function/functions_ind.jsonl'\n",
    "data = {}\n",
    "with open(cached_train_path, 'r') as f:\n",
    "    for line in f:\n",
    "        data.update(json.loads(line))"
   ]
  },
  {
   "cell_type": "code",
   "execution_count": 3,
   "id": "2b75c653-78b6-4a09-ae72-24c7cf2e26a3",
   "metadata": {},
   "outputs": [],
   "source": [
    "train_src_file = '/data/ljx/data/KQAPro/dataset/train.json'\n",
    "with open(train_src_file, 'r') as f:\n",
    "    train_data = json.load(f)"
   ]
  },
  {
   "cell_type": "code",
   "execution_count": 4,
   "id": "891ef31c-f1e6-4eef-b175-655e509bcd0f",
   "metadata": {},
   "outputs": [
    {
     "name": "stdout",
     "output_type": "stream",
     "text": [
      "Min: 1\n",
      "Max: 7152\n"
     ]
    }
   ],
   "source": [
    "dist_vector = np.array([ len(v) for v in data.values()])\n",
    "print(\"Min:\", np.min(dist_vector))\n",
    "print(\"Max:\", np.max(dist_vector))"
   ]
  },
  {
   "cell_type": "code",
   "execution_count": 5,
   "id": "d92848ee-be7c-4c1e-8ea8-dfc2da447531",
   "metadata": {},
   "outputs": [
    {
     "data": {
      "image/png": "[encoded data removed]",
      "text/plain": [
       "<Figure size 432x288 with 1 Axes>"
      ]
     },
     "metadata": {
      "needs_background": "light"
     },
     "output_type": "display_data"
    }
   ],
   "source": [
    "sorted_length = sorted(dist_vector, reverse=True)/np.sum(dist_vector)\n",
    "plt.ylim([0,0.08])\n",
    "plt.xlim([-10,1420//3])\n",
    "#s = np.split(sorted_length, len(sorted_length)//3)\n",
    "#y = np.array([ np.sum(ss) for ss in s ])\n",
    "\n",
    "x1 = np.array(list(range(0, 105)))\n",
    "x2 = np.array(list(range(105, len(sorted_length))))\n",
    "\n",
    "short_tail = sorted_length[:105]\n",
    "long_tail = sorted_length[105:]\n",
    "#color = ['red']*105 + ['blue']*(len(sorted_length)-105)\n",
    "plt.bar(x1, short_tail, color='orangered', alpha=0.75)\n",
    "plt.bar(x2, long_tail, color='deepskyblue', alpha=0.75)\n",
    "plt.title(\"distribution of program\")\n",
    "plt.xlabel(\"Program index (total 1416 in training set)\")\n",
    "plt.ylabel(\"Frequency\")\n",
    "plt.show()"
   ]
  },
  {
   "cell_type": "code",
   "execution_count": 5,
   "id": "3557dff1-57f8-4a15-9e18-4cedba3a0076",
   "metadata": {},
   "outputs": [
    {
     "data": {
      "text/plain": [
       "354"
      ]
     },
     "execution_count": 5,
     "metadata": {},
     "output_type": "execute_result"
    }
   ],
   "source": [
    "count = 0\n",
    "for s in dist_vector:\n",
    "    if s==1:\n",
    "        count += 1\n",
    "count"
   ]
  },
  {
   "cell_type": "code",
   "execution_count": 5,
   "id": "168b00b5-cd08-4294-9312-5b3f03c9a260",
   "metadata": {},
   "outputs": [],
   "source": [
    "test_path = '/data/ljx/data/KQAPro/dataset/val.json'\n",
    "test_data = {}\n",
    "with open(test_path, 'r') as f:\n",
    "    test_data = json.load(f)"
   ]
  },
  {
   "cell_type": "code",
   "execution_count": 16,
   "id": "7959b7c7-65cd-4214-b28e-ad6b4ae0cf24",
   "metadata": {},
   "outputs": [],
   "source": [
    "test_path = '/data/ljx/data/KQAPro/wiki_whole/corpus-1000k.json'\n",
    "test_data = {}\n",
    "with open(test_path, 'r') as f:\n",
    "    test_data = json.load(f)"
   ]
  },
  {
   "cell_type": "code",
   "execution_count": 17,
   "id": "df446ce1-18c1-4833-b992-e097d6cc88ac",
   "metadata": {},
   "outputs": [
    {
     "name": "stdout",
     "output_type": "stream",
     "text": [
      "748170\n"
     ]
    }
   ],
   "source": [
    "print(len(test_data))"
   ]
  },
  {
   "cell_type": "code",
   "execution_count": 18,
   "id": "999b344c-be3e-477a-9837-e5f348d91809",
   "metadata": {},
   "outputs": [],
   "source": [
    "diff = []\n",
    "diff_program_set = []\n",
    "for ind, entry in enumerate(test_data):\n",
    "    program = entry['program']\n",
    "    func_set = []\n",
    "    for f in program:\n",
    "        if f['function']=='Relate':\n",
    "            func_set.append(f['function']+':'+f['inputs'][1])\n",
    "        else:\n",
    "            func_set.append(f['function'])\n",
    "    func_seq = '<sep>'.join(func_set)\n",
    "    if func_seq not in data:\n",
    "        diff.append([ind, entry])\n",
    "        diff_program_set.append(func_seq)\n",
    "diff_program_set = set(diff_program_set)"
   ]
  },
  {
   "cell_type": "code",
   "execution_count": 19,
   "id": "2c9586f0-a72d-4b62-bc8a-d2c40e06afb0",
   "metadata": {},
   "outputs": [
    {
     "name": "stdout",
     "output_type": "stream",
     "text": [
      "5794\n",
      "461\n"
     ]
    }
   ],
   "source": [
    "print(len(diff))\n",
    "print(len(diff_program_set))"
   ]
  },
  {
   "cell_type": "code",
   "execution_count": 9,
   "id": "7ad5c3f4-b718-4787-a75b-74607122ff75",
   "metadata": {},
   "outputs": [],
   "source": [
    "def ensemble_program_input(program):\n",
    "    ret = ''\n",
    "    for p in program:\n",
    "        tmp = p['function']\n",
    "        tmp += '(' + ', '.join(p['inputs']) + ')'\n",
    "        ret += tmp\n",
    "    return ret\n",
    "    \n",
    "def ensemble_input(demon, program):\n",
    "    prompt = ''\n",
    "    for pair in demon:\n",
    "        prompt += pair[1] + ' is verbalized as: ' + pair[0] + '[SEP]'\n",
    "    prompt += program + ' is verbalized as: '\n",
    "    return prompt"
   ]
  },
  {
   "cell_type": "code",
   "execution_count": 10,
   "id": "9232353b-dd5c-4993-a57b-062afeb8445a",
   "metadata": {},
   "outputs": [],
   "source": [
    "def program2funcset(program):\n",
    "    func_set = []\n",
    "    for f in program:\n",
    "        if f['function']=='Relate':\n",
    "            func_set.append(f['function']+':'+f['inputs'][1])\n",
    "        else:\n",
    "            func_set.append(f['function'])\n",
    "    return func_set"
   ]
  },
  {
   "cell_type": "code",
   "execution_count": 20,
   "id": "48d68cdd-63e6-4ce3-ac27-c8aa9e4acbf4",
   "metadata": {},
   "outputs": [
    {
     "name": "stdout",
     "output_type": "stream",
     "text": [
      "Closest editance is: 1\n",
      "Question:\n",
      "What is the altarpiece that use the material tempera and whose inception time is in 1500 (the end time of this statement is 1443-01-01)\n",
      "Find(Jewish people)Relate(ethnic group, backward)FilterConcept(human)FindAll()FilterYear(date of death, 1871, =)FilterConcept(human)And()What() is verbalized as: Who is the person that belongs to Jewish ethnic group and died on 1871 ?[SEP]Find(classical music)Relate(influenced by, backward)FilterConcept(sound)FindAll()FilterYear(inception, 1994, <)FilterConcept(sound)And()What() is verbalized as: What sound influenced by classical music came out before 1994?[SEP]Find(Spain)Relate(film release region, backward)FilterConcept(film)FindAll()FilterStr(exploitation visa number, 39222)QFilterDate(start time, 1972-01-20, =)FilterConcept(film)And()What() is verbalized as: Which movie released in Spain was assigned exploitation visa number 39222 on 1972-01-20?[SEP]Find(tempera)Relate(material used, backward)FilterConcept(altarpiece)FindAll()FilterYear(inception, 1500, =)QFilterDate(end time, 1443-01-01, =)FilterConcept(altarpiece)And()What() is verbalized as: \n"
     ]
    },
    {
     "name": "stdin",
     "output_type": "stream",
     "text": [
      " \n"
     ]
    },
    {
     "name": "stdout",
     "output_type": "stream",
     "text": [
      "Closest editance is: 1\n",
      "Question:\n",
      "What is the award that was received by Mus\\u00E9e dauphinois and that was received by Maison de Pierre Corneille \\u00E0 Petit-Couronne (the start time of this statement is 2003-02-01)\n",
      "Find(The Practice)Relate(genre, forward)FilterConcept(fiction)Find(Damages)Relate(genre, forward)FilterConcept(fiction)And()What() is verbalized as: Which fiction genre includes both The Practice and Damages as examples?[SEP]Find(Leonard Cohen)Relate(genre, forward)FilterConcept(poetry)Find(John Cale)Relate(genre, forward)FilterConcept(poetry)And()What() is verbalized as: What poetries are the genre of Leonard Cohen and the genre of John Cale?[SEP]FindAll()FilterStr(Deutsche Synchronkartei actor-ID, 1676)FilterConcept(human)Find(Brad Pitt)Relate(spouse, forward)QFilterDate(end time, 2005-10-02, =)FilterConcept(human)And()What() is verbalized as: Which person has Deutsche Synchronkartei actor-ID of 1676 and is the spouse of Brad Pitt (the end time of this statement is 2005-10-02)?[SEP]Find(Mus\\u00E9e dauphinois)Relate(award received, forward)FilterConcept(award)Find(Maison de Pierre Corneille \\u00E0 Petit-Couronne)Relate(award received, forward)QFilterDate(start time, 2003-02-01, =)FilterConcept(award)And()What() is verbalized as: \n"
     ]
    },
    {
     "name": "stdin",
     "output_type": "stream",
     "text": [
      " \n"
     ]
    },
    {
     "name": "stdout",
     "output_type": "stream",
     "text": [
      "Closest editance is: 1\n",
      "Question:\n",
      "What is the mountain infantry division whose dissolution date is on 1939-09-10 and whose country is Poland (the one whose nominal GDP is 439796160379.475 United States dollar)\n",
      "FindAll()FilterNum(population, 2800000000, <)FilterConcept(county of North Carolina)Find(Fayetteville)FilterNum(area, 387.425611 square kilometre, =)Relate(capital, backward)FilterConcept(county of North Carolina)And()What() is verbalized as: Which county of North Carolina has under 2,800,000,000 inhabitants, with the capital Fayetteville  (the one whose area is 387.425611 square kilometres) ?[SEP]FindAll()FilterDate(date of birth, 1956-04-19, =)FilterConcept(human)Find(actor)Relate(occupation, backward)FilterConcept(human)And()What() is verbalized as: What is the name of the actor that was born in 1956-04-19?[SEP]FindAll()FilterDate(date of birth, 1957-04-01, =)FilterConcept(human)Find(United Kingdom)Relate(country of citizenship, backward)FilterConcept(human)And()What() is verbalized as: Which UK citizen was born on 1957-04-01?[SEP]FindAll()FilterDate(dissolved, abolished or demolished, 1939-09-10, =)FilterConcept(mountain infantry division)Find(Poland)FilterNum(nominal GDP, 439796160379.475 United States dollar, =)Relate(country, backward)FilterConcept(mountain infantry division)And()What() is verbalized as: \n"
     ]
    },
    {
     "name": "stdin",
     "output_type": "stream",
     "text": [
      " \n"
     ]
    },
    {
     "name": "stdout",
     "output_type": "stream",
     "text": [
      "Closest editance is: 1\n",
      "Question:\n",
      "Who is the human whose date of birth is in 1962 and whose time staying in space is not equal to 6700 minute\n",
      "FindAll()FilterYear(publication date, 2000, <)QFilterStr(place of publication, Germany)FilterConcept(feature film)FindAll()FilterNum(cost, 70000000 United States dollar, =)FilterConcept(feature film)And()What() is verbalized as: What feature film published in Germany before 2000 costed 70000000 United States dollars?[SEP]FindAll()FilterYear(inception, 1865, >)FilterConcept(business)FindAll()FilterNum(total revenue, 201800000000000 South Korean won, !=)QFilterYear(point in time, 2015, =)FilterConcept(business)And()What() is verbalized as: What business has a beginning date that is after 1865 and total revenue that is not 201800000000000 South Korean won in the year 2015?[SEP]FindAll()FilterYear(date of birth, 1962, =)FilterConcept(human)FindAll()FilterNum(time in space, 6700 minute, !=)FilterConcept(human)And()What() is verbalized as: \n"
     ]
    },
    {
     "name": "stdin",
     "output_type": "stream",
     "text": [
      " \n"
     ]
    },
    {
     "name": "stdout",
     "output_type": "stream",
     "text": [
      "Closest editance is: 1\n",
      "Question:\n",
      "What is the perfect number whose prime factor is 2 (the one whose unicode character is \\u0A68) (the quantity of this statement is 2)\n",
      "Find(Victoria)FilterStr(local dialing code, 02)Relate(place of birth, backward)FilterConcept(human)What() is verbalized as: Who was born in Victoria (the dialing code is 02)?[SEP]Find(Naples)FilterStr(demonym, Neapolitan)Relate(place of death, backward)FilterConcept(human)What() is verbalized as: Naples, demonym Neapolitan, is the place of death of which person?[SEP]Find(Puerto Rico Islanders)Relate(member of sports team, backward)QFilterNum(number of matches played/races/starts, 5, =)FilterConcept(human)What() is verbalized as: Which person is a member of the Puerto Rico Islanders (the number of games played of this statement is 5)?[SEP]Find(2)FilterStr(Unicode character, \\u0A68)Relate(prime factor, backward)QFilterNum(quantity, 2, =)FilterConcept(perfect number)What() is verbalized as: \n"
     ]
    },
    {
     "name": "stdin",
     "output_type": "stream",
     "text": [
      " \n"
     ]
    },
    {
     "name": "stdout",
     "output_type": "stream",
     "text": [
      "Closest editance is: 1\n",
      "Question:\n",
      "What is the governorate of Syria whose population is not equal to 35000 (the male population of this statement is 509000) and that is located in time zone UTC+03:00\n",
      "FindAll()FilterNum(ranking, 46, =)FilterConcept(national association football team)Find(Cameroon)Relate(country, backward)FilterConcept(national association football team)And()What() is verbalized as: What's the Cameroon-based national association football team that's ranked 46?[SEP]FindAll()FilterNum(duration, 192 minute, =)FilterConcept(visual artwork)Find(Academy Award for Best Picture)Relate(nominated for, backward)FilterConcept(visual artwork)And()What() is verbalized as: Which visual artwork clocking in at 192 minutes was an Academy Award nominee for Best Picture?[SEP]FindAll()FilterStr(Twitter username, jeffreycombs)QFilterNum(number of subscribers, 29484, =)FilterConcept(human)Find(University of Washington)Relate(educated at, backward)FilterConcept(human)And()What() is verbalized as: Who is the person whose Twitter username is jeffreycombs (the subscription number of this statement is 29484) and is educated at the University of Washington?[SEP]FindAll()FilterNum(population, 35000, !=)QFilterNum(male population, 509000, =)FilterConcept(governorate of Syria)Find(UTC+03:00)Relate(located in time zone, backward)FilterConcept(governorate of Syria)And()What() is verbalized as: \n"
     ]
    },
    {
     "name": "stdin",
     "output_type": "stream",
     "text": [
      " \n"
     ]
    },
    {
     "name": "stdout",
     "output_type": "stream",
     "text": [
      "Closest editance is: 1\n",
      "Question:\n",
      "What is the truss bridge whose official opening date is after 1694 and whose longest span is not equal to 170 metre\n",
      "FindAll()FilterYear(publication date, 2000, <)QFilterStr(place of publication, Germany)FilterConcept(feature film)FindAll()FilterNum(cost, 70000000 United States dollar, =)FilterConcept(feature film)And()What() is verbalized as: What feature film published in Germany before 2000 costed 70000000 United States dollars?[SEP]FindAll()FilterYear(inception, 1865, >)FilterConcept(business)FindAll()FilterNum(total revenue, 201800000000000 South Korean won, !=)QFilterYear(point in time, 2015, =)FilterConcept(business)And()What() is verbalized as: What business has a beginning date that is after 1865 and total revenue that is not 201800000000000 South Korean won in the year 2015?[SEP]FindAll()FilterYear(date of official opening, 1694, >)FilterConcept(truss bridge)FindAll()FilterNum(longest span, 170 metre, !=)FilterConcept(truss bridge)And()What() is verbalized as: \n"
     ]
    },
    {
     "name": "stdin",
     "output_type": "stream",
     "text": [
      " \n"
     ]
    },
    {
     "name": "stdout",
     "output_type": "stream",
     "text": [
      "Closest editance is: 1\n",
      "Question:\n",
      "What is the third Sunday in March whose point in time is on 2018-03-18 and whose series ordinal is 2018-077 (the applied criterion of this statement is ordinal date)\n",
      "FindAll()FilterStr(official website, http://www.bjp.org/)FilterConcept(political party)FindAll()FilterStr(pronunciation audio, Hindi-Bharatiya Janata Party.ogg)QFilterStr(language of work or name, Hindi)FilterConcept(political party)And()What() is verbalized as: What political party's official website is http://www.bjp.org/ and pronunciation audio is Hindi-Bharatiya Janata Party.ogg (this statement's language is Hindi)?[SEP]FindAll()FilterStr(PermID, 5057736951)FilterConcept(higher education institution)FindAll()FilterStr(official website, http://www.wku.edu)QFilterStr(language of work or name, English)FilterConcept(higher education institution)And()What() is verbalized as: What higher education institution has PermID 5057736951 and the official website http://www.wku.edu (in English) ?[SEP]FindAll()FilterDate(date of birth, 1964-07-06, =)FilterConcept(human)FindAll()FilterStr(CANTIC-ID, a11573375)FilterConcept(human)And()What() is verbalized as: Which person has date of birth as 1964-07-06 and CANTIC-ID as a11573375 ?[SEP]FindAll()FilterDate(point in time, 2018-03-18, =)FilterConcept(third Sunday in March)FindAll()FilterStr(series ordinal, 2018-077)QFilterStr(criterion used, ordinal date)FilterConcept(third Sunday in March)And()What() is verbalized as: \n"
     ]
    },
    {
     "name": "stdin",
     "output_type": "stream",
     "text": [
      " \n"
     ]
    },
    {
     "name": "stdout",
     "output_type": "stream",
     "text": [
      "Closest editance is: 1\n",
      "Question:\n",
      "What is the Brisbane International whose point in time is on 2012-01-01 and whose country is Australia (the one that is the country of 2008 Moorilla Hobart International)\n",
      "FindAll()FilterStr(ISNI, 0000 0000 5934 8846)FilterConcept(human)Find(Janis Joplin)Relate(place of death, forward)Find(Hollywood)And()Relate(place of death, backward)FilterConcept(human)And()What() is verbalized as: Who is the person whose  ISNI is 0000 0000 5934 8846 and who died in Hollywood (the place of Janis Joplin's death) ?[SEP]FindAll()FilterStr(official website, http://www.salem.com)FilterConcept(city of the United States)Find(Beverly)Relate(located in the administrative territorial entity, forward)Find(Essex County)And()Relate(capital of, backward)FilterConcept(city of the United States)And()What() is verbalized as: What city in the US is the capital of Essex County (that contains Beverly) and counts http://www.salem.com as the official website ?[SEP]Find(Assam)FilterDate(inception, 1950-01-26, =)Relate(coextensive with, forward)FilterConcept(constituency of the Rajya Sabha)Find(Street Fighter II: The Animated Movie)Relate(narrative location, forward)Find(India)And()Relate(country, backward)FilterConcept(constituency of the Rajya Sabha)And()What() is verbalized as: What is the Rajya Sabha's constituency which is coextensive with Assam (the one whose inception time is 1950-01-26) and has India (the one that is the narrative location of Street Fighter II: The Animated Movie) as a country?[SEP]FindAll()FilterDate(point in time, 2012-01-01, =)FilterConcept(Brisbane International)Find(2008 Moorilla Hobart International)Relate(country, forward)Find(Australia)And()Relate(country, backward)FilterConcept(Brisbane International)And()What() is verbalized as: \n"
     ]
    },
    {
     "name": "stdin",
     "output_type": "stream",
     "text": [
      " \n"
     ]
    },
    {
     "name": "stdout",
     "output_type": "stream",
     "text": [
      "Closest editance is: 1\n",
      "Question:\n",
      "For the group of elections whose casted ballots is greater than 3900 (the male population of this statement is 159978), is its casted ballots not equal to 550 ?\n",
      "FindAll()FilterNum(population, 762550, =)QFilterStr(determination method, estimation process)FilterConcept(county of Massachusetts)QueryAttr(area)VerifyNum(940 square kilometre, >) is verbalized as: Is the area of the Massachusetts county whose population is 762550 (the estimation process is this statement's determination method) larger than 940 square kilometers?[SEP]FindAll()FilterNum(ranking, 40, !=)QFilterNum(points for, 944, =)FilterConcept(national association football team)QueryAttr(FIFA country code) is verbalized as: What is the FIFA country code of a national association football team, whose ranking is not 40 (with 944 league points associated with this statement) ?[SEP]FindAll()FilterNum(ranking, 0, >)QFilterNum(points for, 1366, =)FilterConcept(national association football team)QueryAttr(Twitter username) is verbalized as: What is the Twitter username of the national association football team whose ranking is greater than 0 (the league points of this statement is 1366)?[SEP]FindAll()FilterNum(ballots cast, 3900, >)QFilterNum(male population, 159978, =)FilterConcept(group of elections)QueryAttr(ballots cast)VerifyNum(550, !=) is verbalized as: \n"
     ]
    },
    {
     "name": "stdin",
     "output_type": "stream",
     "text": [
      " \n"
     ]
    },
    {
     "name": "stdout",
     "output_type": "stream",
     "text": [
      "Closest editance is: 1\n",
      "Question:\n",
      "Who is the human that is described by Brockhaus and Efron Encyclopedic Dictionary (the subject of this statement is Q21567821) and that is the citizen of Great Britain (the one that is the residence of William Ansah Sessarakoo)\n",
      "Find(Leyton Orient F.C.)Relate(member of sports team, backward)FilterConcept(human)Find(To Rome with Love)Relate(film release region, forward)Find(Ireland)And()Relate(country of citizenship, backward)FilterConcept(human)And()What() is verbalized as: Which member of Leyton Orient F.C. has citizenship in Ireland, where To Rome with Love was released?[SEP]Find(small forward)Relate(position played on team / speciality, backward)FilterConcept(human)Find(A League of Their Own)Relate(narrative location, forward)Find(Chicago)And()Relate(place of birth, backward)FilterConcept(human)And()What() is verbalized as: Which small forward was born in Chicago, setting of A League of Their Own?[SEP]Find(Academy Award for Best Production Design)Relate(award received, backward)QFilterStr(statement is subject of, 42nd Academy Awards)FilterConcept(human)Find(silent film)Relate(genre, backward)Find(Cleopatra)And()Relate(costume designer, forward)FilterConcept(human)And()What() is verbalized as: Which winner for Best Production Design at the 42nd Academy Awards was a costume designer on the silent film Cleopatra ?[SEP]Find(Brockhaus and Efron Encyclopedic Dictionary)Relate(described by source, backward)QFilterStr(statement is subject of, Q21567821)FilterConcept(human)Find(William Ansah Sessarakoo)Relate(residence, forward)Find(Great Britain)And()Relate(country of citizenship, backward)FilterConcept(human)And()What() is verbalized as: \n"
     ]
    },
    {
     "name": "stdin",
     "output_type": "stream",
     "text": [
      " \n"
     ]
    },
    {
     "name": "stdout",
     "output_type": "stream",
     "text": [
      "Closest editance is: 1\n",
      "Question:\n",
      "For the Carnegie library whose inception time is on 1900-01-01 (the end time of this statement is 1903), what is its official opening date\n",
      "FindAll()FilterDate(date of birth, 1917-06-19, =)FilterConcept(human)QueryAttr(date of death) is verbalized as: When did the person born on 1917-06-19 die?[SEP]FindAll()FilterDate(date of birth, 1893-01-12, =)FilterConcept(human)QueryAttr(date of death) is verbalized as: When was the death of someone born on 1893-01-12?[SEP]FindAll()FilterStr(exploitation visa number, 105228)QFilterYear(start time, 2002, =)FilterConcept(visual artwork)QueryAttr(title) is verbalized as: What is the title of the visual artwork assigned exploitation visa number 105228 in 2002?[SEP]FindAll()FilterDate(inception, 1900-01-01, =)QFilterYear(end time, 1903, =)FilterConcept(Carnegie library)QueryAttr(date of official opening) is verbalized as: \n"
     ]
    },
    {
     "name": "stdin",
     "output_type": "stream",
     "text": [
      " \n"
     ]
    },
    {
     "name": "stdout",
     "output_type": "stream",
     "text": [
      "Closest editance is: 1\n",
      "Question:\n",
      "What is the historical country that use silver (the one that is the material of Thirty pieces of silver) as the currency and whose inception time is in 1406 (the sourcing circumstances of this statement is circa)\n",
      "Find(Marc Shaiman)Relate(voice actor, backward)Find(South Park)And()Relate(based on, backward)FilterConcept(visual artwork)FindAll()FilterYear(publication date, 2002, <)QFilterStr(place of publication, Germany)FilterConcept(visual artwork)And()What() is verbalized as: What visual artwork is adapted from South Park (that has Marc Shaiman as a voice actor) and has the release date that is prior to 2002 in Germany?[SEP]Find(An Alan Smithee Film: Burn Hollywood Burn)Relate(filming location, forward)Find(California)And()Relate(narrative location, backward)FilterConcept(visual artwork)FindAll()FilterDate(publication date, 1997-10-08, =)QFilterStr(place of publication, Sweden)FilterConcept(visual artwork)And()What() is verbalized as: Which visual artwork has its narrative location in California (the filming location of An Alan Smithee Film: Burn Hollywood Burn) and was published on 1997-10-08 in Sweden?[SEP]Find(Thirty pieces of silver)Relate(material used, forward)Find(silver)And()Relate(currency, backward)FilterConcept(historical country)FindAll()FilterYear(inception, 1406, =)QFilterStr(sourcing circumstances, circa)FilterConcept(historical country)And()What() is verbalized as: \n"
     ]
    },
    {
     "name": "stdin",
     "output_type": "stream",
     "text": [
      " \n"
     ]
    },
    {
     "name": "stdout",
     "output_type": "stream",
     "text": [
      "Closest editance is: 1\n",
      "Question:\n",
      "Teenage Mutant Ninja Turtles (the one whose publication date is 1990-12-26) is a part of Teenage Mutant Ninja Turtles (the one whose publication date is 1990-01-01), what is it followed by\n",
      "Find(Guernsey)FilterDate(inception, 1204-01-01, =)Find(Guernsey)FilterNum(area, 63.4 square kilometre, =)QueryRelationQualifier(different from, object has role) is verbalized as: What is the role of Guernsey whose establishment date is 1204-01-01 that is unlike Guernsey whose area is 63.4 square kilometers?[SEP]Find(Brian Cox)FilterDate(date of birth, 1968-03-03, =)Find(Oldham)FilterNum(population, 96555, =)QueryRelationQualifier(place of birth, DOI) is verbalized as: What is the DOI of Brian Cox (the one whose date of birth is 1968-03-03)  who was born in Oldham (the one whose population is 96555)?[SEP]Find(Anna Karenina)FilterDate(publication date, 2012-09-07, =)Find(Anna Karenina)FilterStr(OCLC control number, 220005468)QueryRelationQualifier(based on, author) is verbalized as: For Anna Karenina (the one whose publication date is 2012-09-07), who is the author of the Anna Karenina (the one whose OCLC control number is 220005468) on which it is based?[SEP]Find(Teenage Mutant Ninja Turtles)FilterDate(publication date, 1990-12-26, =)Find(Teenage Mutant Ninja Turtles)FilterDate(publication date, 1990-01-01, =)QueryRelationQualifier(part of the series, followed by) is verbalized as: \n"
     ]
    },
    {
     "name": "stdin",
     "output_type": "stream",
     "text": [
      " \n"
     ]
    },
    {
     "name": "stdout",
     "output_type": "stream",
     "text": [
      "Closest editance is: 1\n",
      "Question:\n",
      "What is the free software that is the dependant software of the free software whose software version identifier is 3.1.0 (the publication date of this statement is 2017-07-06)\n",
      "FindAll()FilterStr(title, Synecdoche, New York)FilterConcept(visual artwork)Relate(composer, forward)FilterConcept(human)What() is verbalized as: Which human is the composer of the visual artwork titled Synecdoche, New York?[SEP]FindAll()FilterStr(OS grid reference, TQ335925)FilterConcept(town)Relate(located in the administrative territorial entity, forward)FilterConcept(administrative territorial entity)What() is verbalized as: The town with an OS grid reference of TQ335925 is contained within what administrative territorial body?[SEP]FindAll()FilterStr(NUTS code, UKE21)QFilterDate(start time, 1999-01-01, =)FilterConcept(city)Relate(headquarters location, backward)FilterConcept(public university)What() is verbalized as: Which public university is headquartered in the city assigned NUTS code UKE21 on 1999-01-01?[SEP]FindAll()FilterStr(software version identifier, 3.1.0)QFilterDate(publication date, 2017-07-06, =)FilterConcept(free software)Relate(depends on software, forward)FilterConcept(free software)What() is verbalized as: \n"
     ]
    },
    {
     "name": "stdin",
     "output_type": "stream",
     "text": [
      " \n"
     ]
    },
    {
     "name": "stdout",
     "output_type": "stream",
     "text": [
      "Closest editance is: 1\n",
      "Question:\n",
      "For the tender locomotive that is named after William Mason (the one whose date of birth is 1808-09-02) (the start time of this statement is 1927), is its number of cylinders greater than 5 ?\n",
      "Find(Columbia Pictures)Relate(distributor, backward)QFilterYear(end time, 1996, =)FilterConcept(television series)QueryAttr(number of seasons)VerifyNum(55, <) is verbalized as: Is the number of seasons less than 55 for the television series that was distributed by Columbia Pictures until 1996?[SEP]Find(Louis Delluc Prize)Relate(award received, backward)QFilterYear(point in time, 2009, =)FilterConcept(visual artwork)QueryAttr(duration)VerifyNum(100 minute, !=) is verbalized as: Does the visual artwork that received the Louis Delluc Prize (the point in time of this statement is 2009), have a duration not equal to 100 minutes?[SEP]Find(Ben 10)FilterDate(start time, 2005-12-27, =)Relate(based on, backward)FilterConcept(television series)QueryAttr(number of seasons)VerifyNum(15, =) is verbalized as: Does the television series based on Ben 10 (the one whose start time is 2005-12-27), have a number of 15 seasons?[SEP]Find(William Mason)FilterDate(date of birth, 1808-09-02, =)Relate(named after, backward)QFilterYear(start time, 1927, =)FilterConcept(tender locomotive)QueryAttr(number of cylinders)VerifyNum(5, >) is verbalized as: \n"
     ]
    },
    {
     "name": "stdin",
     "output_type": "stream",
     "text": [
      " \n"
     ]
    },
    {
     "name": "stdout",
     "output_type": "stream",
     "text": [
      "Closest editance is: 1\n",
      "Question:\n",
      "How many military school that is the military branch of the human that proposed quark\\u2013gluon plasma (the point in time of this statement is 1982-01-01)\n",
      "Find(Bath City F.C.)Relate(member of sports team, backward)QFilterDate(end time, 2004-01-01, =)FilterConcept(human)Relate(place of death, forward)FilterConcept(administrative territorial entity)Count() is verbalized as: How many administrative territorial entities, the place where someone died who was  known as a member of Bath City F.C. until 1st January 2004, do we know ?[SEP]Find(Croatian)Relate(official language, backward)QFilterDate(start time, 2013-07-01, =)FilterConcept(administrative territorial entity)Relate(contains administrative territorial entity, forward)FilterConcept(state)Count() is verbalized as: How many states are an administrative division of the administrative territorial entity using Croatian as the official language starting on the date 2013-07-01?[SEP]Find(Fort Lauderdale)Relate(twinned administrative body, forward)QFilterDate(start time, 2011-01-01, =)FilterConcept(big city)Relate(twinned administrative body, backward)FilterConcept(city)Count() is verbalized as: How many cities are the twinned administrative body of the large city that is Fort Lauderdale's twinned administrative body, starting on the date 2011-01-01?[SEP]Find(quark\\u2013gluon plasma)Relate(theorised by, forward)QFilterDate(point in time, 1982-01-01, =)FilterConcept(human)Relate(military branch, forward)FilterConcept(military school)Count() is verbalized as: \n"
     ]
    },
    {
     "name": "stdin",
     "output_type": "stream",
     "text": [
      " \n"
     ]
    },
    {
     "name": "stdout",
     "output_type": "stream",
     "text": [
      "Closest editance is: 1\n",
      "Question:\n",
      "What is the United States Air Force award or decoration that was received by Air Force Operational Test and Evaluation Center and whose inception time is on 1969-08-26\n",
      "Find(Stargate)Relate(screenwriter, forward)FilterConcept(human)FindAll()FilterStr(Munzinger IBA, 00000021693)FilterConcept(human)And()What() is verbalized as: Who is the person that is the screenwriter of Stargate and whose Munzinger IBA is 00000021693?[SEP]Find(Eastern Promises)Relate(producer, forward)FilterConcept(human)FindAll()FilterStr(ISNI, 0000 0000 7357 8648)FilterConcept(human)And()What() is verbalized as: Who produced Easter Promises and has an ISNI of 0000 0000 7357 8648?[SEP]Find(United Kingdom)Relate(country of citizenship, backward)FilterConcept(human)FindAll()FilterDate(date of birth, 1940-12-01, =)FilterConcept(human)And()What() is verbalized as: Which citizen of the United Kingdom was born on 1940-12-01?[SEP]Find(Air Force Operational Test and Evaluation Center)Relate(award received, forward)FilterConcept(United States Air Force award or decoration)FindAll()FilterDate(inception, 1969-08-26, =)FilterConcept(United States Air Force award or decoration)And()What() is verbalized as: \n"
     ]
    },
    {
     "name": "stdin",
     "output_type": "stream",
     "text": [
      " \n"
     ]
    },
    {
     "name": "stdout",
     "output_type": "stream",
     "text": [
      "Closest editance is: 1\n",
      "Question:\n",
      "For the test flight whose launch date is after 2014 (the refine date of this statement is 07:49:03), is its duration less than 2300 minute ?\n",
      "FindAll()FilterStr(official website, http://www.wwe.com/shows/snme/)QFilterStr(language of work or name, English)FilterConcept(television series)QueryAttr(duration)VerifyNum(1.5 year, >) is verbalized as: Is the television series, with an English language website http://www.wwe.com/shows/snme/, in play longer than 1,5 years?[SEP]FindAll()FilterStr(pronunciation audio, It-Marte.ogg)QFilterStr(language of work or name, Italian)FilterConcept(inner planet)QueryAttr(synodic period)VerifyNum(610 day, >) is verbalized as: Is the synodic period of the inner planet whose pronunciation audio is It-Marte.ogg (this statement's language is Italian) more than 610 days?[SEP]FindAll()FilterYear(publication date, 2010, =)FilterConcept(3D film)QueryAttr(duration)VerifyNum(320 minute, !=) is verbalized as: Is the duration of a 3D film, published in 2010, not 320 minutes?[SEP]FindAll()FilterYear(UTC date of spacecraft launch, 2014, >)QFilterStr(refine date, 07:49:03)FilterConcept(test flight)QueryAttr(duration)VerifyNum(2300 minute, <) is verbalized as: \n"
     ]
    },
    {
     "name": "stdin",
     "output_type": "stream",
     "text": [
      " \n"
     ]
    },
    {
     "name": "stdout",
     "output_type": "stream",
     "text": [
      "Closest editance is: 1\n",
      "Question:\n",
      "For the human that is the participant of 2020 Paris-Nice (the ranking of this statement is 3), is his/her height not equal to 2000 centimetre ?\n",
      "Find(Staffordshire)Relate(located in the administrative territorial entity, forward)FilterConcept(administrative territorial entity)QueryAttr(area)VerifyNum(50 square versta, !=) is verbalized as: Does the administrative territorial entity that contains Staffordshire have an area not 50 square versta?[SEP]Find(Sioux City)Relate(located in the administrative territorial entity, forward)FilterConcept(administrative territorial entity)QueryAttr(elevation above sea level)VerifyNum(-10 metre, >) is verbalized as: Is the above sea level elevation of the administrative territorial entity that contains Sioux City greater than -10 metre?[SEP]Find(Ben Sahar)Relate(member of sports team, forward)QFilterNum(number of matches played/races/starts, 22, =)FilterConcept(association football club)QueryAttr(official name) is verbalized as: What is the official name of the soccer club Ben Sahar played 22 games for?[SEP]Find(2020 Paris-Nice)Relate(participant, forward)QFilterNum(ranking, 3, =)FilterConcept(human)QueryAttr(height)VerifyNum(2000 centimetre, !=) is verbalized as: \n"
     ]
    },
    {
     "ename": "KeyboardInterrupt",
     "evalue": "Interrupted by user",
     "output_type": "error",
     "traceback": [
      "\u001b[0;31m---------------------------------------------------------------------------\u001b[0m",
      "\u001b[0;31mKeyboardInterrupt\u001b[0m                         Traceback (most recent call last)",
      "\u001b[0;32m/tmp/ipykernel_75392/537483519.py\u001b[0m in \u001b[0;36m<module>\u001b[0;34m\u001b[0m\n\u001b[1;32m     53\u001b[0m     \u001b[0mprompt\u001b[0m \u001b[0;34m=\u001b[0m \u001b[0mensemble_input\u001b[0m\u001b[0;34m(\u001b[0m\u001b[0mpairs\u001b[0m\u001b[0;34m,\u001b[0m \u001b[0mensemble_program_input\u001b[0m\u001b[0;34m(\u001b[0m\u001b[0mprogram\u001b[0m\u001b[0;34m)\u001b[0m\u001b[0;34m)\u001b[0m\u001b[0;34m\u001b[0m\u001b[0;34m\u001b[0m\u001b[0m\n\u001b[1;32m     54\u001b[0m     \u001b[0mprint\u001b[0m\u001b[0;34m(\u001b[0m\u001b[0mprompt\u001b[0m\u001b[0;34m)\u001b[0m\u001b[0;34m\u001b[0m\u001b[0;34m\u001b[0m\u001b[0m\n\u001b[0;32m---> 55\u001b[0;31m     \u001b[0minput\u001b[0m\u001b[0;34m(\u001b[0m\u001b[0;34m)\u001b[0m\u001b[0;34m\u001b[0m\u001b[0;34m\u001b[0m\u001b[0m\n\u001b[0m\u001b[1;32m     56\u001b[0m \u001b[0;34m\u001b[0m\u001b[0m\n",
      "\u001b[0;32m~/anaconda3/envs/megapy38/lib/python3.8/site-packages/ipykernel/kernelbase.py\u001b[0m in \u001b[0;36mraw_input\u001b[0;34m(self, prompt)\u001b[0m\n\u001b[1;32m   1005\u001b[0m                 \u001b[0;34m\"raw_input was called, but this frontend does not support input requests.\"\u001b[0m\u001b[0;34m\u001b[0m\u001b[0;34m\u001b[0m\u001b[0m\n\u001b[1;32m   1006\u001b[0m             )\n\u001b[0;32m-> 1007\u001b[0;31m         return self._input_request(\n\u001b[0m\u001b[1;32m   1008\u001b[0m             \u001b[0mstr\u001b[0m\u001b[0;34m(\u001b[0m\u001b[0mprompt\u001b[0m\u001b[0;34m)\u001b[0m\u001b[0;34m,\u001b[0m\u001b[0;34m\u001b[0m\u001b[0;34m\u001b[0m\u001b[0m\n\u001b[1;32m   1009\u001b[0m             \u001b[0mself\u001b[0m\u001b[0;34m.\u001b[0m\u001b[0m_parent_ident\u001b[0m\u001b[0;34m[\u001b[0m\u001b[0;34m\"shell\"\u001b[0m\u001b[0;34m]\u001b[0m\u001b[0;34m,\u001b[0m\u001b[0;34m\u001b[0m\u001b[0;34m\u001b[0m\u001b[0m\n",
      "\u001b[0;32m~/anaconda3/envs/megapy38/lib/python3.8/site-packages/ipykernel/kernelbase.py\u001b[0m in \u001b[0;36m_input_request\u001b[0;34m(self, prompt, ident, parent, password)\u001b[0m\n\u001b[1;32m   1050\u001b[0m             \u001b[0;32mexcept\u001b[0m \u001b[0mKeyboardInterrupt\u001b[0m\u001b[0;34m:\u001b[0m\u001b[0;34m\u001b[0m\u001b[0;34m\u001b[0m\u001b[0m\n\u001b[1;32m   1051\u001b[0m                 \u001b[0;31m# re-raise KeyboardInterrupt, to truncate traceback\u001b[0m\u001b[0;34m\u001b[0m\u001b[0;34m\u001b[0m\u001b[0;34m\u001b[0m\u001b[0m\n\u001b[0;32m-> 1052\u001b[0;31m                 \u001b[0;32mraise\u001b[0m \u001b[0mKeyboardInterrupt\u001b[0m\u001b[0;34m(\u001b[0m\u001b[0;34m\"Interrupted by user\"\u001b[0m\u001b[0;34m)\u001b[0m \u001b[0;32mfrom\u001b[0m \u001b[0;32mNone\u001b[0m\u001b[0;34m\u001b[0m\u001b[0;34m\u001b[0m\u001b[0m\n\u001b[0m\u001b[1;32m   1053\u001b[0m             \u001b[0;32mexcept\u001b[0m \u001b[0mException\u001b[0m\u001b[0;34m:\u001b[0m\u001b[0;34m\u001b[0m\u001b[0;34m\u001b[0m\u001b[0m\n\u001b[1;32m   1054\u001b[0m                 \u001b[0mself\u001b[0m\u001b[0;34m.\u001b[0m\u001b[0mlog\u001b[0m\u001b[0;34m.\u001b[0m\u001b[0mwarning\u001b[0m\u001b[0;34m(\u001b[0m\u001b[0;34m\"Invalid Message:\"\u001b[0m\u001b[0;34m,\u001b[0m \u001b[0mexc_info\u001b[0m\u001b[0;34m=\u001b[0m\u001b[0;32mTrue\u001b[0m\u001b[0;34m)\u001b[0m\u001b[0;34m\u001b[0m\u001b[0;34m\u001b[0m\u001b[0m\n",
      "\u001b[0;31mKeyboardInterrupt\u001b[0m: Interrupted by user"
     ]
    }
   ],
   "source": [
    "keys = list(data.keys())\n",
    "for entry in diff:\n",
    "    program = entry[1]['program']\n",
    "    #spacl = entry[1]['sparql']\n",
    "    \n",
    "    func_set = program2funcset(program)\n",
    "    #func_seq = ' '.join(func_set)\n",
    "    if func_set == ['FindAll', 'FilterConcept', 'Count']:\n",
    "        continue\n",
    "    \n",
    "    dis_dict = {}\n",
    "    for ind, funcs in enumerate(keys):\n",
    "        funcs = funcs.split('<sep>')\n",
    "        dist = levenshtein(func_set, funcs)\n",
    "        if dist not in dis_dict:\n",
    "            dis_dict[dist] = [ind]\n",
    "        else:\n",
    "            dis_dict[dist].append(ind)\n",
    "    \n",
    "    sorted_dist = sorted(dis_dict.keys())\n",
    "    print(\"Closest editance is:\", sorted_dist[0])\n",
    "    cand = find_max_cover(func_set, dis_dict[sorted_dist[0]], sup=dis_dict[sorted_dist[1]])\n",
    "    #print(cand)\n",
    "    #print(func_set)\n",
    "    #for ind in cand:\n",
    "    #    print(keys[ind].split('<sep>'))\n",
    "    #input()\n",
    "    print(\"Question:\")\n",
    "    print(entry[1]['text'])\n",
    "    \n",
    "    sample_num = []\n",
    "    for i in range(len(cand)):\n",
    "        if i == 0:\n",
    "            sample_num.append(4 - len(cand))\n",
    "        else:\n",
    "            sample_num.append(1)\n",
    "    \n",
    "    pairs = []\n",
    "    more = 0\n",
    "    for ind, ca in enumerate(cand):\n",
    "        sample_list = data[keys[ca]]\n",
    "        num = sample_num[ind] + more\n",
    "        more = 0\n",
    "        if len(sample_list)<num:\n",
    "            more = num - len(sample_list)\n",
    "            num = len(sample_list)\n",
    "        samples = np.random.choice(sample_list, num, replace=False).tolist()\n",
    "        for sample in samples:\n",
    "            que = train_data[sample]['question']\n",
    "            pro = train_data[sample]['program']\n",
    "            pro = ensemble_program_input(pro)\n",
    "            pairs.append([que, pro])\n",
    "    prompt = ensemble_input(pairs, ensemble_program_input(program))\n",
    "    print(prompt)\n",
    "    input()\n",
    "    "
   ]
  },
  {
   "cell_type": "code",
   "execution_count": 12,
   "id": "15a5ff3b-d12b-462f-8a11-87331daec41b",
   "metadata": {},
   "outputs": [],
   "source": [
    "# edit distance\n",
    "def levenshtein(l1, l2, thresh=np.inf):\n",
    "    \"\"\"\n",
    "        l1, l2: list of kopl functions\n",
    "        thresh: maximum edit distance allowed minus 1\n",
    "    \"\"\"\n",
    "    len1 = len(l1)\n",
    "    len2 = len(l2)\n",
    "    dp = np.zeros([len1+1, len2+1])\n",
    "    for i in range(1, len1+1):\n",
    "        dp[i][0] = i\n",
    "    for j in range(1, len2+1):\n",
    "        dp[0][j] = j\n",
    "    for i in range(1, len1+1):\n",
    "        for j in range(1, len2+1):\n",
    "            if l1[i-1] == l2[j-1]:\n",
    "                dp[i][j] = dp[i-1][j-1]\n",
    "            else:\n",
    "                dp[i][j] = np.min([dp[i-1][j-1], dp[i-1][j], dp[i][j-1]]) + 1\n",
    "            #if dp[i][j] > thresh + 1:\n",
    "            #    return dp[i][j]\n",
    "    return int(dp[len1][len2])"
   ]
  },
  {
   "cell_type": "code",
   "execution_count": 28,
   "id": "b8d4e200-ee96-4252-b3db-d67e718e2c1f",
   "metadata": {},
   "outputs": [
    {
     "name": "stdout",
     "output_type": "stream",
     "text": [
      "[0, 1, 2]\n"
     ]
    }
   ],
   "source": [
    "keys = list(data.keys())\n",
    "str1 = keys[221].split('<sep>')\n",
    "#str2 = keys[125].split('<sep>')\n",
    "dis_dict = {}\n",
    "for ind, funcs in enumerate(keys):\n",
    "    funcs = funcs.split('<sep>')\n",
    "    dist = levenshtein(str1, funcs)\n",
    "    if dist not in dis_dict:\n",
    "        dis_dict[dist] = [ind]\n",
    "    else:\n",
    "        dis_dict[dist].append(ind)\n",
    "sorted_dist = sorted(dis_dict.keys())\n",
    "print(sorted_dist[:3])"
   ]
  },
  {
   "cell_type": "code",
   "execution_count": 38,
   "id": "dcca289e-f802-4370-9291-213bc296c47f",
   "metadata": {},
   "outputs": [
    {
     "name": "stdout",
     "output_type": "stream",
     "text": [
      "[4, 106, 270, 352, 404, 459, 467, 544, 692, 877, 1186]\n",
      "{'QueryAttr', 'QFilterNum', 'FilterConcept', 'FilterStr', 'FindAll'}\n",
      "{'QueryAttr', 'FilterConcept', 'FindAll', 'FilterStr'}\n",
      "{'QFilterNum'}\n"
     ]
    }
   ],
   "source": [
    "print(dis_dict[1])\n",
    "s2 = set(keys[dis_dict[1][0]].split('<sep>'))\n",
    "s1 = set(str1)\n",
    "print(s1)\n",
    "print(s2)\n",
    "print(s1-s2)"
   ]
  },
  {
   "cell_type": "code",
   "execution_count": 14,
   "id": "ec4f8b38-bea2-4edd-a27f-1a0c89f83b06",
   "metadata": {},
   "outputs": [],
   "source": [
    "# NP hard problem: using greedy search\n",
    "def find_max_cover(str1, dis_dict, sup=None):\n",
    "    s1 = set(str1)\n",
    "    cand = []\n",
    "    diff = {}\n",
    "    \n",
    "    for key_ind in dis_dict:\n",
    "        s2 = set(keys[key_ind].split('<sep>'))\n",
    "        d = s1 - s2\n",
    "        diff[key_ind] = len(d)\n",
    "        #if len(d) == 0:\n",
    "        #    return [key_ind]\n",
    "    diff = sorted(diff.items(), key = lambda kv:(kv[1], kv[0]))\n",
    "    ccand = [ d[0] for d in diff if d[1]==0 ]\n",
    "    if len(ccand)>0:\n",
    "        num = np.min([2, len(ccand)])\n",
    "        return np.random.choice(ccand, num, replace=False).tolist()\n",
    "    if_cover = False\n",
    "    while(if_cover is False):\n",
    "        max_subset = diff[0][0]\n",
    "        cand.append(max_subset)\n",
    "        dis_dict = [d for d in dis_dict if d!=max_subset]\n",
    "        s1 = s1 - set(keys[max_subset].split('<sep>'))\n",
    "        if len(s1)<1:\n",
    "            if_cover = True\n",
    "        else:\n",
    "            diff = {}\n",
    "            if_in = False\n",
    "            for key_ind in dis_dict:\n",
    "                s2 = set(keys[key_ind].split('<sep>'))\n",
    "                if len(s1&s2) > 0:\n",
    "                    if_in = True\n",
    "                d = s1 - s2\n",
    "                diff[key_ind] = len(d)\n",
    "            diff = sorted(diff.items(), key = lambda kv:(kv[1], kv[0]))\n",
    "            \n",
    "            if if_in is False:\n",
    "                if_cover=True\n",
    "    \n",
    "    if sup is not None and len(cand)<3 and len(s1)>0:\n",
    "        diff = {}\n",
    "        if_in = False\n",
    "        for key_ind in sup:\n",
    "            s2 = set(keys[key_ind].split('<sep>'))\n",
    "            if len(s1&s2) > 0:\n",
    "                if_in=True\n",
    "            d = s1 - s2\n",
    "            diff[key_ind] = len(d)\n",
    "        diff = sorted(diff.items(), key = lambda kv:(kv[1], kv[0]))\n",
    "        if if_in is True:\n",
    "            cand.append(diff[0][0])\n",
    "    return cand"
   ]
  },
  {
   "cell_type": "code",
   "execution_count": 61,
   "id": "6fc91ed6-35e4-473a-9f35-b3a05db5659e",
   "metadata": {},
   "outputs": [
    {
     "name": "stdout",
     "output_type": "stream",
     "text": [
      "{4: 1, 106: 1, 270: 0, 352: 0, 404: 1, 459: 1, 467: 1, 544: 1, 692: 1, 877: 0, 1186: 0}\n"
     ]
    },
    {
     "data": {
      "text/plain": [
       "[(270, 0),\n",
       " (352, 0),\n",
       " (877, 0),\n",
       " (1186, 0),\n",
       " (4, 1),\n",
       " (106, 1),\n",
       " (404, 1),\n",
       " (459, 1),\n",
       " (467, 1),\n",
       " (544, 1),\n",
       " (692, 1)]"
      ]
     },
     "execution_count": 61,
     "metadata": {},
     "output_type": "execute_result"
    }
   ],
   "source": [
    "diff = {}\n",
    "s1 = set(str1)\n",
    "#print(s1)\n",
    "for key_ind in dis_dict[1]:\n",
    "    s2 = set(keys[key_ind].split('<sep>'))\n",
    "    #print(s2)\n",
    "    d = s1 - s2\n",
    "    #print(d)\n",
    "    diff[key_ind] = len(d)\n",
    "print(diff)\n",
    "sorted(diff.items(), key = lambda kv:(kv[1], kv[0]))"
   ]
  },
  {
   "cell_type": "code",
   "execution_count": 70,
   "id": "290304f1-c049-4ea1-ba94-fa7a8d82d09e",
   "metadata": {},
   "outputs": [
    {
     "name": "stdout",
     "output_type": "stream",
     "text": [
      "[9, 518]\n"
     ]
    }
   ],
   "source": [
    "cand = find_max_cover(str1, dis_dict[2], sup=dis_dict[3])\n",
    "print(cand)"
   ]
  },
  {
   "cell_type": "code",
   "execution_count": 72,
   "id": "38dfe8bd-77fc-45b4-99f3-b3f993cf4055",
   "metadata": {},
   "outputs": [
    {
     "name": "stdout",
     "output_type": "stream",
     "text": [
      "['FindAll', 'FilterStr', 'QFilterNum', 'FilterConcept', 'QueryAttr']\n",
      "['FindAll', 'FilterStr', 'FilterConcept', 'QueryAttr', 'VerifyStr']\n",
      "['Find', 'Relate:backward', 'QFilterNum', 'FilterConcept', 'QueryAttr']\n"
     ]
    }
   ],
   "source": [
    "from test_overnight import sending_post, pprint_res\n"
   ]
  },
  {
   "cell_type": "code",
   "execution_count": 12,
   "id": "6bc8547e-a8c0-40e3-b08f-cb5422bcd37d",
   "metadata": {},
   "outputs": [
    {
     "name": "stderr",
     "output_type": "stream",
     "text": [
      "100%|██████████| 19/19 [00:38<00:00,  2.03s/it]\n"
     ]
    }
   ],
   "source": [
    "import os\n",
    "import json\n",
    "from tqdm import tqdm\n",
    "path = '/data/ljx/data/KQAPro/dataset'\n",
    "file_name = ['aug_train_%s.json', 'aug_train_rest_%s.json']\n",
    "\n",
    "aug_data = []\n",
    "for i in tqdm(range(19)):\n",
    "    if i <= 10:\n",
    "        file = os.path.join(path, file_name[0] % i)\n",
    "        with open(file, 'r') as f:\n",
    "            tmp = json.load(f)\n",
    "            start = 5000 * i\n",
    "            end = 5000 * (i + 1)\n",
    "            aug_data.extend(tmp[start:end])\n",
    "    else:\n",
    "        file = os.path.join(path, file_name[1] % i)\n",
    "        with open(file, 'r') as f:\n",
    "            tmp = json.load(f)\n",
    "            aug_data.extend(tmp)\n",
    "flag = False\n",
    "for ind, entry in enumerate(aug_data):\n",
    "    if 'aug_questions' not in entry:\n",
    "        print(\"Not right @ %s\" % ind )\n",
    "        print(entry['aug_questions'])\n",
    "        flag = True\n",
    "        break\n",
    "    if len(entry['aug_questions']) == 0:\n",
    "        print(\"Not right @ %s\" % ind )\n",
    "        print(entry['aug_questions'])\n",
    "        flag = True\n",
    "        break\n",
    "if flag is False:\n",
    "    with open(os.path.join(path, 'aug_train_all.json'), 'w') as f:\n",
    "        json.dump(aug_data, f)"
   ]
  },
  {
   "cell_type": "code",
   "execution_count": 14,
   "id": "52fa6c03-b55e-4aef-a045-615d27fa2025",
   "metadata": {},
   "outputs": [],
   "source": [
    "import copy\n",
    "with open(os.path.join(path, 'aug_train_all.json'), 'r') as f:\n",
    "    data_unpacked = json.load(f)\n",
    "\n",
    "data_packed = []\n",
    "for entry in data_unpacked:\n",
    "    tmp = copy.deepcopy(entry)\n",
    "    data_packed.append(tmp)\n",
    "    for a in entry['aug_questions']:\n",
    "        tmp1 = copy.deepcopy(tmp)\n",
    "        tmp1['question'] = a\n",
    "        data_packed.append(tmp1)\n",
    "\n",
    "with open(os.path.join(path, 'aug_train_packed.json'), 'w') as f:\n",
    "    json.dump(data_packed, f)"
   ]
  },
  {
   "cell_type": "code",
   "execution_count": 15,
   "id": "ebb3dc95-c1d9-438f-9231-9425533ef474",
   "metadata": {},
   "outputs": [],
   "source": [
    "# augment only\n",
    "import copy\n",
    "with open(os.path.join(path, 'aug_train_all.json'), 'r') as f:\n",
    "    data_unpacked = json.load(f)\n",
    "\n",
    "data_aug = []\n",
    "for entry in data_unpacked:\n",
    "    tmp = copy.deepcopy(entry)\n",
    "    tmp['question'] = entry['aug_questions'][0]\n",
    "    data_aug.append(tmp)\n",
    "    \n",
    "with open(os.path.join(path, 'aug_train_aug_only.json'), 'w') as f:\n",
    "    json.dump(data_aug, f)"
   ]
  },
  {
   "cell_type": "code",
   "execution_count": null,
   "id": "aa2ab56d-52f3-4ff2-b47d-b2c0683f1576",
   "metadata": {},
   "outputs": [],
   "source": [
    "# extract answer\n",
    "with open(os.path.join(path, 'aug_train_all.json'), 'r') as f:\n",
    "    data_unpacked = json.load(f)\n",
    "    \n",
    "with open(os.path.join(path, 'train_ans.json'), 'w') as f:\n",
    "    for entry in data_unpacked:\n",
    "        f.write(entry['answer'] + '\\n')"
   ]
  }
 ],
 "metadata": {
  "kernelspec": {
   "display_name": "Python 3 (ipykernel)",
   "language": "python",
   "name": "python3"
  },
  "language_info": {
   "codemirror_mode": {
    "name": "ipython",
    "version": 3
   },
   "file_extension": ".py",
   "mimetype": "text/x-python",
   "name": "python",
   "nbconvert_exporter": "python",
   "pygments_lexer": "ipython3",
   "version": "3.8.11"
  }
 },
 "nbformat": 4,
 "nbformat_minor": 5
}
